{
 "cells": [
  {
   "cell_type": "code",
   "execution_count": 1,
   "id": "81e85b8b-fd29-4850-bda2-ea382ebf4f5f",
   "metadata": {},
   "outputs": [],
   "source": [
    "\n",
    "import pandas as pd\n",
    "import numpy as np\n",
    "import pandas as pandas_pd\n",
    "import os\n",
    "import time"
   ]
  },
  {
   "cell_type": "code",
   "execution_count": 34,
   "id": "117377d0-9d1b-41bb-ad73-e3517631480b",
   "metadata": {},
   "outputs": [],
   "source": [
    "#data = pd.read_csv('Parking_Violations_v2.csv')"
   ]
  },
  {
   "cell_type": "code",
   "execution_count": 2,
   "id": "7de7328f-c367-4d89-867c-01b5b2d87130",
   "metadata": {},
   "outputs": [
    {
     "name": "stdout",
     "output_type": "stream",
     "text": [
      "Pandas read time: 11.280446290969849 seconds\n"
     ]
    }
   ],
   "source": [
    "\n",
    "start_time = time.time()\n",
    "df_pandas = pd.read_csv(\"ETHUSD.csv\")\n",
    "end_time = time.time()\n",
    "\n",
    "print(f\"Pandas read time: {end_time - start_time} seconds\")\n"
   ]
  },
  {
   "cell_type": "code",
   "execution_count": 3,
   "id": "3fe4ac73-680b-462b-8d18-bde77b3f2bd5",
   "metadata": {},
   "outputs": [
    {
     "name": "stdout",
     "output_type": "stream",
     "text": [
      "Dask read time: 0.7733311653137207 seconds\n"
     ]
    }
   ],
   "source": [
    "import dask.dataframe as dd\n",
    "import time\n",
    "\n",
    "start_time = time.time()\n",
    "df_dask = dd.read_csv(\"ETHUSD.csv\")\n",
    "end_time = time.time()\n",
    "\n",
    "print(f\"Dask read time: {end_time - start_time} seconds\")"
   ]
  },
  {
   "cell_type": "code",
   "execution_count": 37,
   "id": "a42f52d6-d785-4908-93ea-44dd8667fc69",
   "metadata": {},
   "outputs": [],
   "source": [
    "#pip install modin[dask]"
   ]
  },
  {
   "cell_type": "code",
   "execution_count": 4,
   "id": "9d4a7f4d-61fe-46ba-8db3-71b7369fb195",
   "metadata": {},
   "outputs": [],
   "source": [
    "import os\n",
    "os.environ[\"MODIN_ENGINE\"] = \"dask\""
   ]
  },
  {
   "cell_type": "code",
   "execution_count": 5,
   "id": "90b91622-e3de-42f0-9963-2c716037afd1",
   "metadata": {},
   "outputs": [
    {
     "name": "stderr",
     "output_type": "stream",
     "text": [
      "UserWarning: Port 8787 is already in use.\n",
      "Perhaps you already have a cluster running?\n",
      "Hosting the HTTP server on port 53361 instead\n"
     ]
    },
    {
     "name": "stdout",
     "output_type": "stream",
     "text": [
      "Modin read time: 16.197556734085083 seconds\n"
     ]
    }
   ],
   "source": [
    "import modin.pandas as mpd\n",
    "import time\n",
    "\n",
    "start_time = time.time()\n",
    "df_modin = mpd.read_csv(\"ETHUSD.csv\")\n",
    "end_time = time.time()\n",
    "\n",
    "print(f\"Modin read time: {end_time - start_time} seconds\")"
   ]
  },
  {
   "cell_type": "code",
   "execution_count": null,
   "id": "f39477a0-1b5d-4d9f-ad22-76cf0fa64d31",
   "metadata": {},
   "outputs": [],
   "source": []
  },
  {
   "cell_type": "code",
   "execution_count": 6,
   "id": "39e2b4fb-510d-437e-b20c-c18c7eb93d4f",
   "metadata": {},
   "outputs": [],
   "source": [
    "df_new=df_modin.copy()"
   ]
  },
  {
   "cell_type": "code",
   "execution_count": 7,
   "id": "a84906a6-3d69-4a8c-a539-c77da4d2f900",
   "metadata": {},
   "outputs": [
    {
     "data": {
      "text/plain": [
       "Index(['Open time', 'Open', 'High', 'Low', 'Close', 'Volume', 'Close time',\n",
       "       'Quote asset volume', 'Number of trades', 'Taker buy base asset volume',\n",
       "       'Taker buy quote asset volume', 'Ignore'],\n",
       "      dtype='object')"
      ]
     },
     "execution_count": 7,
     "metadata": {},
     "output_type": "execute_result"
    }
   ],
   "source": [
    "df_new.columns"
   ]
  },
  {
   "cell_type": "code",
   "execution_count": 11,
   "id": "421607b3-94c2-465f-9fec-33279c4f1718",
   "metadata": {},
   "outputs": [
    {
     "data": {
      "text/plain": [
       "(3799608, 12)"
      ]
     },
     "execution_count": 11,
     "metadata": {},
     "output_type": "execute_result"
    }
   ],
   "source": [
    "df_new.shape"
   ]
  },
  {
   "cell_type": "code",
   "execution_count": 10,
   "id": "7abd28be-fced-4db0-b5ed-f38156aa7192",
   "metadata": {},
   "outputs": [
    {
     "data": {
      "text/plain": [
       "<bound method DataFrame.info of                    Open time     Open     High      Low    Close     Volume  \\\n",
       "0        2017-08-17 04:00:00   301.13   301.13   301.13   301.13    0.42643   \n",
       "1        2017-08-17 04:01:00   301.13   301.13   301.13   301.13    2.75787   \n",
       "2        2017-08-17 04:02:00   300.00   300.00   300.00   300.00    0.09930   \n",
       "3        2017-08-17 04:03:00   300.00   300.00   300.00   300.00    0.31389   \n",
       "4        2017-08-17 04:04:00   301.13   301.13   301.13   301.13    0.23202   \n",
       "...                      ...      ...      ...      ...      ...        ...   \n",
       "3799603  2024-11-12 18:35:00  3281.41  3285.54  3279.71  3282.45  558.00890   \n",
       "3799604  2024-11-12 18:36:00  3282.45  3284.79  3271.00  3271.00  685.86560   \n",
       "3799605  2024-11-12 18:37:00  3271.01  3275.99  3270.86  3273.49  510.63050   \n",
       "3799606  2024-11-12 18:38:00  3273.50  3276.47  3271.35  3272.18  349.74890   \n",
       "3799607  2024-11-12 18:39:00  3272.18  3273.95  3271.50  3273.36  116.67390   \n",
       "\n",
       "                      Close time  Quote asset volume  Number of trades  \\\n",
       "0        2017-08-17 04:00:59.999        1.284109e+02               2.0   \n",
       "1        2017-08-17 04:01:59.999        8.304774e+02               4.0   \n",
       "2        2017-08-17 04:02:59.999        2.979000e+01               2.0   \n",
       "3        2017-08-17 04:03:59.999        9.416700e+01               3.0   \n",
       "4        2017-08-17 04:04:59.999        6.986818e+01               1.0   \n",
       "...                          ...                 ...               ...   \n",
       "3799603  2024-11-12 18:35:59.999        1.831906e+06            3241.0   \n",
       "3799604  2024-11-12 18:36:59.999        2.248745e+06            4947.0   \n",
       "3799605  2024-11-12 18:37:59.999        1.671488e+06            3384.0   \n",
       "3799606  2024-11-12 18:38:59.999        1.144899e+06            3707.0   \n",
       "3799607  2024-11-12 18:39:59.999        3.818264e+05            1814.0   \n",
       "\n",
       "         Taker buy base asset volume  Taker buy quote asset volume  Ignore  \n",
       "0                            0.42643                  1.284109e+02     0.0  \n",
       "1                            2.75787                  8.304774e+02     0.0  \n",
       "2                            0.09930                  2.979000e+01     0.0  \n",
       "3                            0.00000                  0.000000e+00     0.0  \n",
       "4                            0.23202                  6.986818e+01     0.0  \n",
       "...                              ...                           ...     ...  \n",
       "3799603                    329.33140                  1.081074e+06     0.0  \n",
       "3799604                    238.07140                  7.807082e+05     0.0  \n",
       "3799605                    235.87090                  7.720204e+05     0.0  \n",
       "3799606                    187.04370                  6.122436e+05     0.0  \n",
       "3799607                     71.51550                  2.340268e+05     0.0  \n",
       "\n",
       "[3799608 rows x 12 columns]>"
      ]
     },
     "execution_count": 10,
     "metadata": {},
     "output_type": "execute_result"
    }
   ],
   "source": [
    "df_new.info"
   ]
  },
  {
   "cell_type": "code",
   "execution_count": 13,
   "id": "f42bcd8e-7c7a-485d-a4fc-9de1b8a0b4d0",
   "metadata": {},
   "outputs": [
    {
     "data": {
      "text/html": [
       "<div>\n",
       "<style scoped>\n",
       "    .dataframe tbody tr th:only-of-type {\n",
       "        vertical-align: middle;\n",
       "    }\n",
       "\n",
       "    .dataframe tbody tr th {\n",
       "        vertical-align: top;\n",
       "    }\n",
       "\n",
       "    .dataframe thead th {\n",
       "        text-align: right;\n",
       "    }\n",
       "</style>\n",
       "<table border=\"1\" class=\"dataframe\">\n",
       "  <thead>\n",
       "    <tr style=\"text-align: right;\">\n",
       "      <th></th>\n",
       "      <th>Opentime</th>\n",
       "      <th>Open</th>\n",
       "      <th>High</th>\n",
       "      <th>Low</th>\n",
       "      <th>Close</th>\n",
       "      <th>Volume</th>\n",
       "      <th>Closetime</th>\n",
       "      <th>Quoteassetvolume</th>\n",
       "      <th>Numberoftrades</th>\n",
       "      <th>Takerbuybaseassetvolume</th>\n",
       "      <th>Takerbuyquoteassetvolume</th>\n",
       "      <th>Ignore</th>\n",
       "    </tr>\n",
       "  </thead>\n",
       "  <tbody>\n",
       "    <tr>\n",
       "      <th>0</th>\n",
       "      <td>2017-08-17 04:00:00</td>\n",
       "      <td>301.13</td>\n",
       "      <td>301.13</td>\n",
       "      <td>301.13</td>\n",
       "      <td>301.13</td>\n",
       "      <td>0.42643</td>\n",
       "      <td>2017-08-17 04:00:59.999</td>\n",
       "      <td>1.284109e+02</td>\n",
       "      <td>2.0</td>\n",
       "      <td>0.42643</td>\n",
       "      <td>1.284109e+02</td>\n",
       "      <td>0.0</td>\n",
       "    </tr>\n",
       "    <tr>\n",
       "      <th>1</th>\n",
       "      <td>2017-08-17 04:01:00</td>\n",
       "      <td>301.13</td>\n",
       "      <td>301.13</td>\n",
       "      <td>301.13</td>\n",
       "      <td>301.13</td>\n",
       "      <td>2.75787</td>\n",
       "      <td>2017-08-17 04:01:59.999</td>\n",
       "      <td>8.304774e+02</td>\n",
       "      <td>4.0</td>\n",
       "      <td>2.75787</td>\n",
       "      <td>8.304774e+02</td>\n",
       "      <td>0.0</td>\n",
       "    </tr>\n",
       "    <tr>\n",
       "      <th>2</th>\n",
       "      <td>2017-08-17 04:02:00</td>\n",
       "      <td>300.00</td>\n",
       "      <td>300.00</td>\n",
       "      <td>300.00</td>\n",
       "      <td>300.00</td>\n",
       "      <td>0.09930</td>\n",
       "      <td>2017-08-17 04:02:59.999</td>\n",
       "      <td>2.979000e+01</td>\n",
       "      <td>2.0</td>\n",
       "      <td>0.09930</td>\n",
       "      <td>2.979000e+01</td>\n",
       "      <td>0.0</td>\n",
       "    </tr>\n",
       "    <tr>\n",
       "      <th>3</th>\n",
       "      <td>2017-08-17 04:03:00</td>\n",
       "      <td>300.00</td>\n",
       "      <td>300.00</td>\n",
       "      <td>300.00</td>\n",
       "      <td>300.00</td>\n",
       "      <td>0.31389</td>\n",
       "      <td>2017-08-17 04:03:59.999</td>\n",
       "      <td>9.416700e+01</td>\n",
       "      <td>3.0</td>\n",
       "      <td>0.00000</td>\n",
       "      <td>0.000000e+00</td>\n",
       "      <td>0.0</td>\n",
       "    </tr>\n",
       "    <tr>\n",
       "      <th>4</th>\n",
       "      <td>2017-08-17 04:04:00</td>\n",
       "      <td>301.13</td>\n",
       "      <td>301.13</td>\n",
       "      <td>301.13</td>\n",
       "      <td>301.13</td>\n",
       "      <td>0.23202</td>\n",
       "      <td>2017-08-17 04:04:59.999</td>\n",
       "      <td>6.986818e+01</td>\n",
       "      <td>1.0</td>\n",
       "      <td>0.23202</td>\n",
       "      <td>6.986818e+01</td>\n",
       "      <td>0.0</td>\n",
       "    </tr>\n",
       "    <tr>\n",
       "      <th>...</th>\n",
       "      <td>...</td>\n",
       "      <td>...</td>\n",
       "      <td>...</td>\n",
       "      <td>...</td>\n",
       "      <td>...</td>\n",
       "      <td>...</td>\n",
       "      <td>...</td>\n",
       "      <td>...</td>\n",
       "      <td>...</td>\n",
       "      <td>...</td>\n",
       "      <td>...</td>\n",
       "      <td>...</td>\n",
       "    </tr>\n",
       "    <tr>\n",
       "      <th>3799603</th>\n",
       "      <td>2024-11-12 18:35:00</td>\n",
       "      <td>3281.41</td>\n",
       "      <td>3285.54</td>\n",
       "      <td>3279.71</td>\n",
       "      <td>3282.45</td>\n",
       "      <td>558.00890</td>\n",
       "      <td>2024-11-12 18:35:59.999</td>\n",
       "      <td>1.831906e+06</td>\n",
       "      <td>3241.0</td>\n",
       "      <td>329.33140</td>\n",
       "      <td>1.081074e+06</td>\n",
       "      <td>0.0</td>\n",
       "    </tr>\n",
       "    <tr>\n",
       "      <th>3799604</th>\n",
       "      <td>2024-11-12 18:36:00</td>\n",
       "      <td>3282.45</td>\n",
       "      <td>3284.79</td>\n",
       "      <td>3271.00</td>\n",
       "      <td>3271.00</td>\n",
       "      <td>685.86560</td>\n",
       "      <td>2024-11-12 18:36:59.999</td>\n",
       "      <td>2.248745e+06</td>\n",
       "      <td>4947.0</td>\n",
       "      <td>238.07140</td>\n",
       "      <td>7.807082e+05</td>\n",
       "      <td>0.0</td>\n",
       "    </tr>\n",
       "    <tr>\n",
       "      <th>3799605</th>\n",
       "      <td>2024-11-12 18:37:00</td>\n",
       "      <td>3271.01</td>\n",
       "      <td>3275.99</td>\n",
       "      <td>3270.86</td>\n",
       "      <td>3273.49</td>\n",
       "      <td>510.63050</td>\n",
       "      <td>2024-11-12 18:37:59.999</td>\n",
       "      <td>1.671488e+06</td>\n",
       "      <td>3384.0</td>\n",
       "      <td>235.87090</td>\n",
       "      <td>7.720204e+05</td>\n",
       "      <td>0.0</td>\n",
       "    </tr>\n",
       "    <tr>\n",
       "      <th>3799606</th>\n",
       "      <td>2024-11-12 18:38:00</td>\n",
       "      <td>3273.50</td>\n",
       "      <td>3276.47</td>\n",
       "      <td>3271.35</td>\n",
       "      <td>3272.18</td>\n",
       "      <td>349.74890</td>\n",
       "      <td>2024-11-12 18:38:59.999</td>\n",
       "      <td>1.144899e+06</td>\n",
       "      <td>3707.0</td>\n",
       "      <td>187.04370</td>\n",
       "      <td>6.122436e+05</td>\n",
       "      <td>0.0</td>\n",
       "    </tr>\n",
       "    <tr>\n",
       "      <th>3799607</th>\n",
       "      <td>2024-11-12 18:39:00</td>\n",
       "      <td>3272.18</td>\n",
       "      <td>3273.95</td>\n",
       "      <td>3271.50</td>\n",
       "      <td>3273.36</td>\n",
       "      <td>116.67390</td>\n",
       "      <td>2024-11-12 18:39:59.999</td>\n",
       "      <td>3.818264e+05</td>\n",
       "      <td>1814.0</td>\n",
       "      <td>71.51550</td>\n",
       "      <td>2.340268e+05</td>\n",
       "      <td>0.0</td>\n",
       "    </tr>\n",
       "  </tbody>\n",
       "</table>\n",
       "<p>3799608 rows x 12 columns</p>\n",
       "</div>"
      ],
      "text/plain": [
       "                    Opentime     Open     High      Low    Close     Volume  \\\n",
       "0        2017-08-17 04:00:00   301.13   301.13   301.13   301.13    0.42643   \n",
       "1        2017-08-17 04:01:00   301.13   301.13   301.13   301.13    2.75787   \n",
       "2        2017-08-17 04:02:00   300.00   300.00   300.00   300.00    0.09930   \n",
       "3        2017-08-17 04:03:00   300.00   300.00   300.00   300.00    0.31389   \n",
       "4        2017-08-17 04:04:00   301.13   301.13   301.13   301.13    0.23202   \n",
       "...                      ...      ...      ...      ...      ...        ...   \n",
       "3799603  2024-11-12 18:35:00  3281.41  3285.54  3279.71  3282.45  558.00890   \n",
       "3799604  2024-11-12 18:36:00  3282.45  3284.79  3271.00  3271.00  685.86560   \n",
       "3799605  2024-11-12 18:37:00  3271.01  3275.99  3270.86  3273.49  510.63050   \n",
       "3799606  2024-11-12 18:38:00  3273.50  3276.47  3271.35  3272.18  349.74890   \n",
       "3799607  2024-11-12 18:39:00  3272.18  3273.95  3271.50  3273.36  116.67390   \n",
       "\n",
       "                       Closetime  Quoteassetvolume  Numberoftrades  \\\n",
       "0        2017-08-17 04:00:59.999      1.284109e+02             2.0   \n",
       "1        2017-08-17 04:01:59.999      8.304774e+02             4.0   \n",
       "2        2017-08-17 04:02:59.999      2.979000e+01             2.0   \n",
       "3        2017-08-17 04:03:59.999      9.416700e+01             3.0   \n",
       "4        2017-08-17 04:04:59.999      6.986818e+01             1.0   \n",
       "...                          ...               ...             ...   \n",
       "3799603  2024-11-12 18:35:59.999      1.831906e+06          3241.0   \n",
       "3799604  2024-11-12 18:36:59.999      2.248745e+06          4947.0   \n",
       "3799605  2024-11-12 18:37:59.999      1.671488e+06          3384.0   \n",
       "3799606  2024-11-12 18:38:59.999      1.144899e+06          3707.0   \n",
       "3799607  2024-11-12 18:39:59.999      3.818264e+05          1814.0   \n",
       "\n",
       "         Takerbuybaseassetvolume  Takerbuyquoteassetvolume  Ignore  \n",
       "0                        0.42643              1.284109e+02     0.0  \n",
       "1                        2.75787              8.304774e+02     0.0  \n",
       "2                        0.09930              2.979000e+01     0.0  \n",
       "3                        0.00000              0.000000e+00     0.0  \n",
       "4                        0.23202              6.986818e+01     0.0  \n",
       "...                          ...                       ...     ...  \n",
       "3799603                329.33140              1.081074e+06     0.0  \n",
       "3799604                238.07140              7.807082e+05     0.0  \n",
       "3799605                235.87090              7.720204e+05     0.0  \n",
       "3799606                187.04370              6.122436e+05     0.0  \n",
       "3799607                 71.51550              2.340268e+05     0.0  \n",
       "\n",
       "[3799608 rows x 12 columns]"
      ]
     },
     "execution_count": 13,
     "metadata": {},
     "output_type": "execute_result"
    }
   ],
   "source": [
    "# remove special characters and white spaces from column names\n",
    "df_new.columns = df_new.columns.str.replace('[^A-Za-z0-9]+', '', regex=True)\n",
    "df_new"
   ]
  },
  {
   "cell_type": "code",
   "execution_count": null,
   "id": "b2b294c1-7c1c-4acf-9247-a6094b8deac5",
   "metadata": {},
   "outputs": [],
   "source": [
    "### YAML "
   ]
  },
  {
   "cell_type": "code",
   "execution_count": 15,
   "id": "1c36bb10-652d-417f-a70c-da336f010fce",
   "metadata": {},
   "outputs": [
    {
     "data": {
      "text/plain": [
       "['Opentime',\n",
       " 'Open',\n",
       " 'High',\n",
       " 'Low',\n",
       " 'Close',\n",
       " 'Volume',\n",
       " 'Closetime',\n",
       " 'Quoteassetvolume',\n",
       " 'Numberoftrades',\n",
       " 'Takerbuybaseassetvolume',\n",
       " 'Takerbuyquoteassetvolume',\n",
       " 'Ignore']"
      ]
     },
     "execution_count": 15,
     "metadata": {},
     "output_type": "execute_result"
    }
   ],
   "source": [
    "# Get header name\n",
    "df_new.columns.tolist()"
   ]
  },
  {
   "cell_type": "code",
   "execution_count": null,
   "id": "b330b67a-e565-45d6-85db-c3c54011c93f",
   "metadata": {},
   "outputs": [],
   "source": []
  },
  {
   "cell_type": "code",
   "execution_count": null,
   "id": "8ece82d3-0368-4a9c-b3f4-5e5c428d9c4c",
   "metadata": {},
   "outputs": [],
   "source": []
  },
  {
   "cell_type": "code",
   "execution_count": null,
   "id": "66952d0f-91cb-4f5f-a66b-c3eba583634e",
   "metadata": {},
   "outputs": [],
   "source": [
    "# import shutil\n",
    "import yaml\n",
    "import gzip\n",
    "import os\n",
    "\n",
    "\n",
    "# Step 1: Read the YAML configuration file\n",
    "with open(\"config.yaml\") as file:\n",
    "    config = yaml.safe_load(file)\n",
    "\n",
    "# Step 2: Validate DataFrame structure against YAML\n",
    "if list(df.columns) == config[\"columns\"]:\n",
    "    print(\"Column validation passed\")\n",
    "else:\n",
    "    print(\"Column validation failed. Please check the column names and order.\")\n",
    "\n",
    "# Step 3: Write DataFrame to a gzipped, pipe-separated text file\n",
    "df_subset = df.iloc[:2000]  # selecting the first 1000 rows\n",
    "df_subset.to_csv(\"output_file.csv.gz\", sep=\"|\", compression=\"gzip\", index=False)\n",
    "\n",
    "# Step 4: Create and print a summary of the file\n",
    "summary = {\n",
    "    \"Total number of rows\": len(df),\n",
    "    \"Total number of columns\": len(df.columns),\n",
    "    \"File size (bytes)\": os.path.getsize(\"output_file.csv.gz\")\n",
    "}\n",
    "\n",
    "print(\"File Summary:\", summary)"
   ]
  },
  {
   "cell_type": "code",
   "execution_count": null,
   "id": "75643f46-954f-4a2d-9a76-ba334bf9d822",
   "metadata": {},
   "outputs": [],
   "source": []
  }
 ],
 "metadata": {
  "kernelspec": {
   "display_name": "Python 3 (ipykernel)",
   "language": "python",
   "name": "python3"
  },
  "language_info": {
   "codemirror_mode": {
    "name": "ipython",
    "version": 3
   },
   "file_extension": ".py",
   "mimetype": "text/x-python",
   "name": "python",
   "nbconvert_exporter": "python",
   "pygments_lexer": "ipython3",
   "version": "3.11.7"
  }
 },
 "nbformat": 4,
 "nbformat_minor": 5
}
